{
 "cells": [
  {
   "cell_type": "code",
   "execution_count": 1,
   "metadata": {},
   "outputs": [],
   "source": [
    "from load_lyrics import load_bag_of_words as load\n",
    "from sklearn.ensemble import RandomForestClassifier as RFC"
   ]
  },
  {
   "cell_type": "code",
   "execution_count": null,
   "metadata": {},
   "outputs": [],
   "source": [
    "fname = 'lyricscleaned.csv'\n",
    "x,y,genres,words = load(fname)\n",
    "print('X Shape:',x.shape,'Y Shape:',y.shape,'Genres:',len(genres),genres,'Word Count:',len(words))"
   ]
  },
  {
   "cell_type": "code",
   "execution_count": null,
   "metadata": {},
   "outputs": [],
   "source": [
    "# Train / Test Split\n",
    "from sklearn.model_selection import train_test_split\n",
    "x_,xt,y_,yt = train_test_split(x,y,test_size=0.2,random_state=0)"
   ]
  },
  {
   "cell_type": "code",
   "execution_count": null,
   "metadata": {},
   "outputs": [],
   "source": [
    "# Train a RFC on the data, random_state=0 for reproduceability\n",
    "clf = RFC(n_estimators=256,max_depth=50,random_state=0)\n",
    "clf.fit(x_,y_)\n",
    "print('Training Accuracy:',clf.score(x_,y_),'Test Accuracy:',clf.score(xt,yt))"
   ]
  },
  {
   "cell_type": "code",
   "execution_count": null,
   "metadata": {},
   "outputs": [],
   "source": [
    "# Train a KNN Classifier on the data\n",
    "from sklearn.neighbors import KNeighborsClassifier as KNN\n",
    "kclf = KNN(n_neighbors=3)\n",
    "kclf.fit(x_,y_)\n",
    "print('Training Accuracy:',kclf.score(x_,y_),'Test Accuracy:',kclf.score(xt,yt))"
   ]
  },
  {
   "cell_type": "code",
   "execution_count": null,
   "metadata": {},
   "outputs": [],
   "source": []
  }
 ],
 "metadata": {
  "kernelspec": {
   "display_name": "Python 2",
   "language": "python",
   "name": "python2"
  },
  "language_info": {
   "codemirror_mode": {
    "name": "ipython",
    "version": 2
   },
   "file_extension": ".py",
   "mimetype": "text/x-python",
   "name": "python",
   "nbconvert_exporter": "python",
   "pygments_lexer": "ipython2",
   "version": "2.7.14"
  }
 },
 "nbformat": 4,
 "nbformat_minor": 2
}
